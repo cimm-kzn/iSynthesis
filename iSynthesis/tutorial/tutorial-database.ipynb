{
 "cells": [
  {
   "cell_type": "markdown",
   "metadata": {},
   "source": [
    "This is the first part of iSynthesis tutorial\n",
    "\n",
    "# Prepare database with initial reactants via [CGRdb](https://github.com/Pandylandy/CGRdb#readme)\n",
    "\n",
    "## Setup PostgreSQL\n",
    "1. Install PostgreSQL10 :\n",
    "\n",
    "```\n",
    "sudo apt-get update && sudo apt-get install postgresql-server-dev-10 postgresql-plpython3-10\n",
    "```\n",
    "\n",
    "2. Create schema im PSQL:\n",
    "\n",
    "```\n",
    "sudo -u postgres psql\n",
    "\n",
    "create schema \"zinc\";\n",
    "\\q\n",
    "```\n",
    "or \n",
    "```\n",
    "psql -U postgres -h localhost -c 'create schema \"zinc\";'\n",
    "```\n",
    "\n",
    "3. Build patched smlar extension:\n",
    "\n",
    "\n",
    "```\n",
    "git clone https://github.com/stsouko/smlar.git\n",
    "cd smlar\n",
    "sudo su\n",
    "export USE_PGXS=1\n",
    "make\n",
    "make install\n",
    "```\n",
    "\n",
    "4. Uncomment and change next line in /etc/postgresql/10/main/postgresql.conf\n",
    "\n",
    "```deadlock_timeout = 10s```\n",
    "\n",
    "5. Add line into /etc/postgresql/10/main/environment\n",
    "\n",
    "```PATH = '/usr/local/sbin:/usr/local/bin:/usr/sbin:/usr/bin:/sbin:/bin'```\n",
    "\n",
    "6. Restart PSQL:\n",
    "\n",
    "```\n",
    "sudo systemctl restart postgresql\n",
    "```\n",
    "\n",
    "### WARNING: PostgreSQL uses system Python, so it is neccesary to install this library into system Python (>=3.7) via sudo:\n",
    "```\n",
    "sudo pip install CGRtools==4.1.34\n",
    "sudo pip install compress-pickle\n",
    "sudo pip install git+https://github.com/cimm-kzn/CIMtools.git@master\n",
    "```\n",
    "\n",
    "## Setup CGRdb\n",
    "1. Initialize CGRdb (only once)\n",
    "\n",
    "```\n",
    "cgrdb init -c '{\"host\": \"localhost\", \"password\": \"your password\", \"user\": \"postgres\"}'\n",
    "```\n",
    "\n",
    "2. Create CGRdb schema with all tables: \n",
    "\n",
    "```\n",
    "cgrdb create -c '{\"host\": \"localhost\", \"password\": \"password\", \"user\": \"postgres\"}' -n zinc -f config.json \n",
    "```\n",
    "\n",
    "Example of config.json:\n",
    "\n",
    "```\n",
    "{\n",
    " \"molecule\": {\"bits_count\": 4, \"max_length\": 6, \"min_length\": 2, \"bits_active\": 2, \"fingerprint_size\": 12},\n",
    " \"reaction\": {\"bits_count\": 4, \"max_length\": 6, \"min_length\": 2, \"bits_active\": 2, \"cgr_dynbonds\": 1, \"fingerprint_size\": 12},\n",
    " \"packages\": [\"CGRdbData==4.0.0\"],\n",
    " \"cache_size\": 1024,\n",
    " \"environment\": \"/path/to/your/project/.venv\"\n",
    "}\n",
    "```\n",
    "\n",
    "**NOTE**: env in config.json should be the path of poetry created environment in your project!!! \n"
   ]
  },
  {
   "cell_type": "markdown",
   "metadata": {},
   "source": [
    "## 1. Fill database with building blocks"
   ]
  },
  {
   "cell_type": "code",
   "execution_count": 1,
   "metadata": {},
   "outputs": [],
   "source": [
    "from CGRdb import load_schema\n",
    "from CGRtools import SMILESRead, SDFRead\n",
    "from pony.orm import db_session\n",
    "from multiprocessing import Queue, Process\n",
    "from time import sleep"
   ]
  },
  {
   "cell_type": "markdown",
   "metadata": {},
   "source": [
    "#### Configure settings/paths:"
   ]
  },
  {
   "cell_type": "code",
   "execution_count": 2,
   "metadata": {},
   "outputs": [],
   "source": [
    "N_CPU = 12\n",
    "STANDARDIZED_ALL = '../data/standardized_zinc/zinc.smi'\n",
    "functional_groups_path = '../data/rules/groups.pickle'"
   ]
  },
  {
   "cell_type": "markdown",
   "metadata": {},
   "source": [
    "### 1.1 Create database connection"
   ]
  },
  {
   "cell_type": "code",
   "execution_count": 3,
   "metadata": {},
   "outputs": [
    {
     "name": "stderr",
     "output_type": "stream",
     "text": [
      "/home/adelia/PycharmProjects/iSynthesis-CIMM/.venv/lib/python3.8/site-packages/LazyPony/__init__.py:88: UserWarning: for many-to-many relationship if schema used NEED to define m2m table name\n",
      "  warn('for many-to-many relationship if schema used NEED to define m2m table name')\n"
     ]
    }
   ],
   "source": [
    "db = load_schema('zinc', user='postgres', password='password', host='localhost', database='postgres', port=5432)"
   ]
  },
  {
   "cell_type": "code",
   "execution_count": 4,
   "metadata": {},
   "outputs": [
    {
     "data": {
      "text/plain": [
       "0"
      ]
     },
     "execution_count": 4,
     "metadata": {},
     "output_type": "execute_result"
    }
   ],
   "source": [
    "db.Molecule.select().count()"
   ]
  },
  {
   "cell_type": "markdown",
   "metadata": {},
   "source": [
    "### 1.2 Insert molecules from sdf file into the CGRdb database"
   ]
  },
  {
   "cell_type": "code",
   "execution_count": 5,
   "metadata": {},
   "outputs": [],
   "source": [
    "for n, molecule in enumerate(SMILESRead(STANDARDIZED_ALL)):\n",
    "    try:\n",
    "        with db_session:\n",
    "            db.Molecule(molecule)\n",
    "    except Exception as e:\n",
    "        print(n, e)"
   ]
  },
  {
   "cell_type": "markdown",
   "metadata": {},
   "source": [
    "## 2. Index building blocks for functional groups from reaction rules\n"
   ]
  },
  {
   "cell_type": "code",
   "execution_count": 6,
   "metadata": {},
   "outputs": [],
   "source": [
    "from pickle import dump, load"
   ]
  },
  {
   "cell_type": "markdown",
   "metadata": {},
   "source": [
    "### 2.1 Load functional groups from downloaded or earlier prepared binary pickled file:\n"
   ]
  },
  {
   "cell_type": "code",
   "execution_count": 7,
   "metadata": {},
   "outputs": [],
   "source": [
    "group_dict = load(open(functional_groups_path, 'rb'))"
   ]
  },
  {
   "cell_type": "markdown",
   "metadata": {},
   "source": [
    "### 2.2 Insert functional groups into CGRdb database\n",
    "\n",
    "\n",
    "Check out number of molecule in database:"
   ]
  },
  {
   "cell_type": "code",
   "execution_count": 10,
   "metadata": {},
   "outputs": [
    {
     "data": {
      "text/plain": [
       "604785"
      ]
     },
     "execution_count": 10,
     "metadata": {},
     "output_type": "execute_result"
    }
   ],
   "source": [
    "db.Molecule.select().count()"
   ]
  },
  {
   "cell_type": "code",
   "execution_count": 15,
   "metadata": {},
   "outputs": [],
   "source": [
    "from CGRtools import MoleculeContainer"
   ]
  },
  {
   "cell_type": "code",
   "execution_count": 16,
   "metadata": {},
   "outputs": [],
   "source": [
    "def query2molecule(queries):\n",
    "    molecules = []\n",
    "    for q in queries:\n",
    "        m = MoleculeContainer()\n",
    "        for a in q.atoms():\n",
    "            m.add_atom(a[1].atomic_symbol, a[0])\n",
    "        for b in q.bonds():\n",
    "            # m.add_bond(*b)  # for CGRtools <=4.0\n",
    "            m.add_bond(b[0], b[1], b[2].order[0])  # for CGRtools >=4.1\n",
    "        molecules.append(m)\n",
    "    return molecules\n",
    "\n",
    "@db_session\n",
    "def insert_groups():\n",
    "    i = 0\n",
    "    for n, group in group_dict.items():\n",
    "        i += 1\n",
    "        db.MoleculeClass(id=i, name='{}, {}'.format(str(query2molecule([group])[0]), group), _type=0)\n",
    "\n",
    "insert_groups()"
   ]
  },
  {
   "cell_type": "markdown",
   "metadata": {},
   "source": [
    "### 2.3 Indexing building blocks"
   ]
  },
  {
   "cell_type": "code",
   "execution_count": 17,
   "metadata": {},
   "outputs": [
    {
     "name": "stdout",
     "output_type": "stream",
     "text": [
      "worker done\n"
     ]
    }
   ],
   "source": [
    "groups = load(open(functional_groups_path, 'rb'))\n",
    "\n",
    "with db_session:\n",
    "    mss = {m.id: m.structure for m in db.Molecule.select()}\n",
    "\n",
    "\n",
    "def worker(q):\n",
    "    for k, v in mss.items():\n",
    "        q.put((k, v))\n",
    "    for _ in range(N_CPU):\n",
    "        q.put('done')\n",
    "    print('worker done')\n",
    "\n",
    "\n",
    "def index_mol(q):\n",
    "    d = iter(q.get, 'done')\n",
    "    for mid, ms in d:\n",
    "        # ms.reset_query_marks()\n",
    "        classes_db = [c.id for c in db.Molecule[mid].classes]  # indexed groups if existed\n",
    "        classes = [i for i, g in group_dict.items() if g <= ms]  # new groups\n",
    "        classes.extend(classes_db)  # add new\n",
    "        with db_session:\n",
    "            db.Molecule[mid].classes = [db.MoleculeClass[i] for i in classes]\n",
    "\n",
    "\n",
    "q = Queue()\n",
    "Process(target=worker, args=[q]).start()\n",
    "pr = [Process(target=index_mol, args=[q]) for _ in range(N_CPU)]\n",
    "for p in pr:\n",
    "    p.start()"
   ]
  },
  {
   "cell_type": "markdown",
   "metadata": {},
   "source": [
    "## 3. Preload molecule fingerprints for quick initial reactants selection based on Tversky index"
   ]
  },
  {
   "cell_type": "code",
   "execution_count": 18,
   "metadata": {},
   "outputs": [],
   "source": [
    "from StructureFingerprint import LinearFingerprint\n"
   ]
  },
  {
   "cell_type": "markdown",
   "metadata": {},
   "source": [
    "Create dictionary with molecule id and its fingerprint:"
   ]
  },
  {
   "cell_type": "code",
   "execution_count": 19,
   "metadata": {},
   "outputs": [],
   "source": [
    "fingerprints = {}\n",
    "for mid, ms in mss.items():\n",
    "    fingerprints[mid] = set(LinearFingerprint(max_radius=6, length=4096, number_bit_pairs=4).transform_bitset([ms])[0])"
   ]
  },
  {
   "cell_type": "markdown",
   "metadata": {},
   "source": [
    "Save preloaded fingerprints into file:"
   ]
  },
  {
   "cell_type": "code",
   "execution_count": 20,
   "metadata": {},
   "outputs": [],
   "source": [
    "with open('../data/zinc/zinc_fps.pickle', 'wb') as file:\n",
    "    dump(fingerprints, file)"
   ]
  },
  {
   "cell_type": "code",
   "execution_count": 21,
   "metadata": {},
   "outputs": [
    {
     "data": {
      "text/plain": [
       "604785"
      ]
     },
     "execution_count": 21,
     "metadata": {},
     "output_type": "execute_result"
    }
   ],
   "source": [
    "len(fingerprints)"
   ]
  }
 ],
 "metadata": {
  "kernelspec": {
   "display_name": "isyn-cimm",
   "language": "python",
   "name": "isyn-cimm"
  },
  "language_info": {
   "codemirror_mode": {
    "name": "ipython",
    "version": 3
   },
   "file_extension": ".py",
   "mimetype": "text/x-python",
   "name": "python",
   "nbconvert_exporter": "python",
   "pygments_lexer": "ipython3",
   "version": "3.8.10"
  }
 },
 "nbformat": 4,
 "nbformat_minor": 4
}
